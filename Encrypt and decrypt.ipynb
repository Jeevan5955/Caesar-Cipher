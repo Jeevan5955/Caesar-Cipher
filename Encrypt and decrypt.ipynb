{
 "cells": [
  {
   "cell_type": "code",
   "execution_count": null,
   "metadata": {},
   "outputs": [],
   "source": [
    "while(1):\n",
    "# Caesar Cipher\n",
    "    SYMBOLS = 'ABCDEFGHIJKLMNOPQRSTUVWXYZabcdefghijklmnopqrstuvwxyz'\n",
    "    MAX_KEY_SIZE = len(SYMBOLS)\n",
    "\n",
    "    def getMode():\n",
    "        while True:\n",
    "            print('Do you wish to encrypt or decrypt a message?')\n",
    "            mode = input().lower()\n",
    "            if mode in ['encrypt', 'e', 'decrypt', 'd']:\n",
    "                return mode\n",
    "            else:\n",
    "                print('Enter either \"encrypt\" or \"e\" or \"decrypt\" or \"d\".')\n",
    "\n",
    "    def getMessage():\n",
    "        print('Enter your message:')\n",
    "        return input()\n",
    "\n",
    "    def getKey():\n",
    "        key = 0\n",
    "        while True:\n",
    "            print('Enter the key number (1-%s)' % (MAX_KEY_SIZE))\n",
    "            key = int(input())\n",
    "            if (key >= 1 and key <= MAX_KEY_SIZE):\n",
    "                return key\n",
    "\n",
    "    def getTranslatedMessage(mode, message, key):\n",
    "        if mode[0] == 'd':\n",
    "            key = -key\n",
    "        translated = ''\n",
    "\n",
    "        for symbol in message:\n",
    "            symbolIndex = SYMBOLS.find(symbol)\n",
    "            if symbolIndex == -1: # Symbol not found in SYMBOLS.\n",
    "                # Just add this symbol without any change.\n",
    "                translated += symbol\n",
    "            else:\n",
    "                # Encrypt or decrypt\n",
    "                symbolIndex += key\n",
    "\n",
    "                if symbolIndex >= len(SYMBOLS):\n",
    "                    symbolIndex -= len(SYMBOLS)\n",
    "                elif symbolIndex < 0:\n",
    "                    symbolIndex += len(SYMBOLS)\n",
    "\n",
    "                translated += SYMBOLS[symbolIndex]\n",
    "        return translated\n",
    "\n",
    "    mode = getMode()\n",
    "    message = getMessage()\n",
    "    key = getKey()\n",
    "    print('Your translated text is:')\n",
    "    print(getTranslatedMessage(mode, message, key))\n"
   ]
  }
 ],
 "metadata": {
  "kernelspec": {
   "display_name": "Python 3",
   "language": "python",
   "name": "python3"
  },
  "language_info": {
   "codemirror_mode": {
    "name": "ipython",
    "version": 3
   },
   "file_extension": ".py",
   "mimetype": "text/x-python",
   "name": "python",
   "nbconvert_exporter": "python",
   "pygments_lexer": "ipython3",
   "version": "3.7.6"
  }
 },
 "nbformat": 4,
 "nbformat_minor": 2
}
